{
 "cells": [
  {
   "cell_type": "markdown",
   "metadata": {},
   "source": [
    "<div style=\"text-align: right\"> __Provided on April 1 and due on April 16__ [BRI516, Spring/2019] </div>"
   ]
  },
  {
   "cell_type": "markdown",
   "metadata": {},
   "source": [
    "For homework in general:\n",
    "* Install `Anaconda` and create an environment with `NumPy`, `Pandas`, `Matplotlib`, `scikit-learn` in Python 3.5 \n",
    "* Please upload your jupyter-notebook file for homework to `Blackboard`"
   ]
  },
  {
   "cell_type": "markdown",
   "metadata": {},
   "source": [
    "### [Hw02] \n",
    "\n",
    "(1) Divide the Iris dataset into 80% for training and 20% for test"
   ]
  },
  {
   "cell_type": "code",
   "execution_count": 5,
   "metadata": {},
   "outputs": [
    {
     "name": "stdout",
     "output_type": "stream",
     "text": [
      "include\n"
     ]
    }
   ],
   "source": [
    "print(\"include\")"
   ]
  },
  {
   "cell_type": "markdown",
   "metadata": {},
   "source": [
    "#### Feature selection\n",
    "\n",
    "(2) Apply feature selection algorithm, `sequential backward selection (SBS)` to select k features (k = 1, 2, 3) from the Iris data using (a) support vector machine (SVM) and (b) k-nearest neighbor (KNN) classifiers."
   ]
  },
  {
   "cell_type": "code",
   "execution_count": 6,
   "metadata": {},
   "outputs": [
    {
     "name": "stdout",
     "output_type": "stream",
     "text": [
      "include\n"
     ]
    }
   ],
   "source": [
    "print(\"include\")"
   ]
  },
  {
   "cell_type": "markdown",
   "metadata": {},
   "source": [
    "(3) Perform the selection of k features (k = 1, 2, 3) using `feature_importances_` attribute from the random forest (RF) classifier"
   ]
  },
  {
   "cell_type": "code",
   "execution_count": 7,
   "metadata": {},
   "outputs": [
    {
     "name": "stdout",
     "output_type": "stream",
     "text": [
      "include\n"
     ]
    }
   ],
   "source": [
    "print(\"include\")"
   ]
  },
  {
   "cell_type": "markdown",
   "metadata": {},
   "source": [
    "(4) Discuss the results"
   ]
  },
  {
   "cell_type": "code",
   "execution_count": 8,
   "metadata": {},
   "outputs": [
    {
     "name": "stdout",
     "output_type": "stream",
     "text": [
      "include\n"
     ]
    }
   ],
   "source": [
    "print(\"include\")"
   ]
  },
  {
   "cell_type": "markdown",
   "metadata": {},
   "source": [
    "#### Feature extraction\n",
    "\n",
    "(5) Apply feature extraction methods using (a) principal component analysis (PCA) and (b) linear discriminant analysis (LDA) to extract k features (k = 1, 2, 3)"
   ]
  },
  {
   "cell_type": "code",
   "execution_count": 9,
   "metadata": {},
   "outputs": [
    {
     "name": "stdout",
     "output_type": "stream",
     "text": [
      "include\n"
     ]
    }
   ],
   "source": [
    "print(\"include\")"
   ]
  },
  {
   "cell_type": "markdown",
   "metadata": {},
   "source": [
    "(6) Perform the classification of the Iris data with k-dimensional extracted features from (5) using (a) support vector machine (SVM), (b) KNN, and (c) RF classifiers"
   ]
  },
  {
   "cell_type": "code",
   "execution_count": 10,
   "metadata": {},
   "outputs": [
    {
     "name": "stdout",
     "output_type": "stream",
     "text": [
      "include\n"
     ]
    }
   ],
   "source": [
    "print(\"include\")"
   ]
  },
  {
   "cell_type": "markdown",
   "metadata": {},
   "source": [
    "(7) Discuss the results in comparison to (4)"
   ]
  },
  {
   "cell_type": "code",
   "execution_count": 11,
   "metadata": {},
   "outputs": [
    {
     "name": "stdout",
     "output_type": "stream",
     "text": [
      "include\n"
     ]
    }
   ],
   "source": [
    "print(\"include\")"
   ]
  },
  {
   "cell_type": "markdown",
   "metadata": {},
   "source": [
    "Note\n",
    "* Set appropriate hyperparameter values (i.e., number of iterations, number of estimators, distance measure and so on) to get a reasonable performance\n",
    "* Draw an accuracy plot on both training and test set where applicable \n",
    "* Draw plots using the Matplotlib\n",
    "* Please explain your results "
   ]
  }
 ],
 "metadata": {
  "kernelspec": {
   "display_name": "Python 3",
   "language": "python",
   "name": "python3"
  },
  "language_info": {
   "codemirror_mode": {
    "name": "ipython",
    "version": 3
   },
   "file_extension": ".py",
   "mimetype": "text/x-python",
   "name": "python",
   "nbconvert_exporter": "python",
   "pygments_lexer": "ipython3",
   "version": "3.7.1"
  }
 },
 "nbformat": 4,
 "nbformat_minor": 2
}
