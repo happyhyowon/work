{
 "cells": [
  {
   "cell_type": "markdown",
   "metadata": {},
   "source": [
    "<div style=\"text-align: right\"> __Provided on April 1 and due on April 16__ [BRI516, Spring/2019] </div>"
   ]
  },
  {
   "cell_type": "markdown",
   "metadata": {},
   "source": [
    "For homework in general:\n",
    "* Install `Anaconda` and create an environment with `NumPy`, `Pandas`, `Matplotlib`, `scikit-learn` in Python 3.5 \n",
    "* Please upload your jupyter-notebook file for homework to `Blackboard`"
   ]
  },
  {
   "cell_type": "markdown",
   "metadata": {},
   "source": [
    "### [Hw02] \n",
    "\n",
    "(1) Divide the Iris dataset into 80% for training and 20% for test\n",
    "\n",
    "<br>\n",
    "\n",
    "#### Feature selection\n",
    "\n",
    "(2) Apply feature selection algorithm, `sequential backward selection (SBS)` to select k features (k = 1, 2, 3) from the Iris data using (a) support vector machine (SVM) and (b) k-nearest neighbor (KNN) classifiers.\n",
    "\n",
    "\n",
    "(3) Perform the selection of k features (k = 1, 2, 3) using `feature_importances_` attribute from the random forest (RF) classifier\n",
    "\n",
    "\n",
    "(4) Discuss the results\n",
    "\n",
    "<br>\n",
    "\n",
    "#### Feature extraction\n",
    "\n",
    "(5) Apply feature extraction methods using (a) principal component analysis (PCA) and (b) linear discriminant analysis (LDA) to extract k features (k = 1, 2, 3)\n",
    "\n",
    "\n",
    "(6) Perform the classification of the Iris data with k-dimensional extracted features from (5) using (a) support vector machine (SVM), (b) KNN, and (c) RF classifiers\n",
    "\n",
    "\n",
    "(7) Discuss the results in comparison to (4)\n",
    "\n",
    "\n",
    "<br>\n",
    "\n",
    "Note\n",
    "* Set appropriate hyperparameter values (i.e., number of iterations, number of estimators, distance measure and so on) to get a reasonable performance\n",
    "* Draw an accuracy plot on both training and test set where applicable \n",
    "* Draw plots using the Matplotlib\n",
    "* Please explain your results \n"
   ]
  },
  {
   "cell_type": "code",
   "execution_count": null,
   "metadata": {},
   "outputs": [],
   "source": []
  }
 ],
 "metadata": {
  "kernelspec": {
   "display_name": "Python [default]",
   "language": "python",
   "name": "python3"
  },
  "language_info": {
   "codemirror_mode": {
    "name": "ipython",
    "version": 3
   },
   "file_extension": ".py",
   "mimetype": "text/x-python",
   "name": "python",
   "nbconvert_exporter": "python",
   "pygments_lexer": "ipython3",
   "version": "3.5.6"
  }
 },
 "nbformat": 4,
 "nbformat_minor": 2
}
