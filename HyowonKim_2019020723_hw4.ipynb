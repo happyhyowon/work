{
 "cells": [
  {
   "cell_type": "markdown",
   "metadata": {},
   "source": [
    "<div style=\"text-align: right\"> __Provided on May 14, Due on May 27__ [BRI516, Spring/2019] </div>"
   ]
  },
  {
   "cell_type": "markdown",
   "metadata": {},
   "source": [
    "For homework in general:\n",
    "* Install `Anaconda` and create an environment with `NumPy`, `Pandas`, `Matplotlib`, `scikit-learn` in Python 3.5 \n",
    "* Please upload your jupyter-notebook file for homework to `Blackboard`\n",
    "* Please visualize the results as much as possible and discuss your results at least one line of text"
   ]
  },
  {
   "cell_type": "markdown",
   "metadata": {},
   "source": [
    "### [HW04]\n",
    "\n",
    "#### Clustering Analysis (CH. 11)\n",
    "\n",
    "##### (1) Data preparation\n",
    "    Generate four isotropic Gaussian blobs with 400 2D samples and with cluster standard deviation of 0.5\n",
    "\n",
    "##### (2) k-means\n",
    "    (2a) Implement the k-means algorithm using generic python code (i.e., not using the scikit-learn)\n",
    "\n",
    "    (2b) Implement the `k-means++` initialization method\n",
    "\n",
    "    (2c) Run your k-means algorithm implementation using the blob dataset from (1) in the following conditions. Choose the reasonable number of runs and maximum iterations from a trial and error. \n",
    "\n",
    "    (2c-1) Choose an optimal number of clusters between 1 and 10 based on both the elbow method and silhouette method\n",
    "\n",
    "    (2c-2) Set the optimal number of cluseters found from (2c-1) and compare the results of clustering analysis between the random initialization and `k-means++` initialization (implemented in 2b)  \n",
    "\n",
    "    (2c-3) Compare the results of your implementation and results of the scikit-learn implementation for both (2c-1) and (2c-2)\n",
    "\n",
    "##### (3) Fuzzy C-means (FCM)\n",
    "    (3a) Implement the FCM using generic python code\n",
    "\n",
    "    (3b) Let's suppose the fuzziness coefficient, m = 2. Choose the proper number of clusters between 1 and 10 based on the elbow method \n",
    "\n",
    "    (3c) Discuss the obtained results with the results from (2c-1)\n"
   ]
  }
 ],
 "metadata": {
  "kernelspec": {
   "display_name": "Python [conda env:conda]",
   "language": "python",
   "name": "conda-env-conda-py"
  },
  "language_info": {
   "codemirror_mode": {
    "name": "ipython",
    "version": 3
   },
   "file_extension": ".py",
   "mimetype": "text/x-python",
   "name": "python",
   "nbconvert_exporter": "python",
   "pygments_lexer": "ipython3",
   "version": "3.6.8"
  }
 },
 "nbformat": 4,
 "nbformat_minor": 2
}
