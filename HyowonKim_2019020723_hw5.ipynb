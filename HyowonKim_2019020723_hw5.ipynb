{
  "nbformat": 4,
  "nbformat_minor": 0,
  "metadata": {
    "colab": {
      "name": "HyowonKim_2019020723_hw5.ipynb",
      "version": "0.3.2",
      "provenance": [],
      "include_colab_link": true
    },
    "language_info": {
      "codemirror_mode": {
        "name": "ipython",
        "version": 3
      },
      "file_extension": ".py",
      "mimetype": "text/x-python",
      "name": "python",
      "nbconvert_exporter": "python",
      "pygments_lexer": "ipython3",
      "version": "3.5.6"
    },
    "kernelspec": {
      "display_name": "Python [conda env:tensorflow]",
      "language": "python",
      "name": "conda-env-tensorflow-py"
    },
    "accelerator": "GPU"
  },
  "cells": [
    {
      "cell_type": "markdown",
      "metadata": {
        "id": "view-in-github",
        "colab_type": "text"
      },
      "source": [
        "<a href=\"https://colab.research.google.com/github/hyo1happy/work/blob/master/HyowonKim_2019020723_hw5.ipynb\" target=\"_parent\"><img src=\"https://colab.research.google.com/assets/colab-badge.svg\" alt=\"Open In Colab\"/></a>"
      ]
    },
    {
      "cell_type": "markdown",
      "metadata": {
        "id": "vyUY1ZCL9w5N",
        "colab_type": "text"
      },
      "source": [
        "<div style=\"text-align: right\"> __ Provided on May 27 and due on June 17__ [BRI516, Spring/2019] </div>"
      ]
    },
    {
      "cell_type": "markdown",
      "metadata": {
        "id": "iCIoyyp-9w5P",
        "colab_type": "text"
      },
      "source": [
        "For homework in general:\n",
        "* Install `Anaconda` and create an environment with `NumPy`, `Pandas`, `Matplotlib`, `scikit-learn` in Python 3.5 \n",
        "* Please upload your jupyter-notebook file for homework to `Blackboard`\n",
        "* Please visualize the results as much as possible and discuss your results at least one line of text"
      ]
    },
    {
      "cell_type": "code",
      "metadata": {
        "id": "61HYus1M9w5P",
        "colab_type": "code",
        "colab": {}
      },
      "source": [
        "## Disable warning message\n",
        "import os\n",
        "\n",
        "os.environ['TF_CPP_MIN_LOG_LEVEL'] = '2'"
      ],
      "execution_count": 0,
      "outputs": []
    },
    {
      "cell_type": "code",
      "metadata": {
        "id": "aS75YBtX9w5R",
        "colab_type": "code",
        "colab": {}
      },
      "source": [
        "## import library & module\n",
        "import matplotlib.pyplot as plt\n",
        "%matplotlib inline\n",
        "\n",
        "import tensorflow as tf\n",
        "\n",
        "import os\n",
        "import sys\n",
        "import struct\n",
        "import numpy as np"
      ],
      "execution_count": 0,
      "outputs": []
    },
    {
      "cell_type": "markdown",
      "metadata": {
        "id": "sbNvH1aL9w5T",
        "colab_type": "text"
      },
      "source": [
        "#### [Hw05] Implementing a Multilayer Neural Networks using TensorFlow (TF) 1.x (Ch. 13)\n",
        "\n",
        "\n",
        "##### (1) Data preparation\n",
        "    (1a) Load the train dataset and test dataset of the MNIST \n",
        "    \n",
        "\n",
        "  "
      ]
    },
    {
      "cell_type": "code",
      "metadata": {
        "id": "f1bxr6BG9w5U",
        "colab_type": "code",
        "colab": {
          "base_uri": "https://localhost:8080/",
          "height": 397
        },
        "outputId": "f9a713f0-6ce5-4b8f-9765-47e2e4de66d7"
      },
      "source": [
        "## import MNIST data\n",
        "from tensorflow.examples.tutorials.mnist import input_data\n",
        "mnist_data = input_data.read_data_sets(\"./data/mnist/\", validation_size=5000)"
      ],
      "execution_count": 3,
      "outputs": [
        {
          "output_type": "stream",
          "text": [
            "WARNING: Logging before flag parsing goes to stderr.\n",
            "W0617 13:33:48.110947 140108863686528 deprecation.py:323] From <ipython-input-3-f6494e31dbf4>:2: read_data_sets (from tensorflow.contrib.learn.python.learn.datasets.mnist) is deprecated and will be removed in a future version.\n",
            "Instructions for updating:\n",
            "Please use alternatives such as official/mnist/dataset.py from tensorflow/models.\n",
            "W0617 13:33:48.112670 140108863686528 deprecation.py:323] From /usr/local/lib/python3.6/dist-packages/tensorflow/contrib/learn/python/learn/datasets/mnist.py:260: maybe_download (from tensorflow.contrib.learn.python.learn.datasets.base) is deprecated and will be removed in a future version.\n",
            "Instructions for updating:\n",
            "Please write your own downloading logic.\n",
            "W0617 13:33:48.113529 140108863686528 deprecation.py:323] From /usr/local/lib/python3.6/dist-packages/tensorflow/contrib/learn/python/learn/datasets/mnist.py:262: extract_images (from tensorflow.contrib.learn.python.learn.datasets.mnist) is deprecated and will be removed in a future version.\n",
            "Instructions for updating:\n",
            "Please use tf.data to implement this functionality.\n"
          ],
          "name": "stderr"
        },
        {
          "output_type": "stream",
          "text": [
            "Extracting ./data/mnist/train-images-idx3-ubyte.gz\n"
          ],
          "name": "stdout"
        },
        {
          "output_type": "stream",
          "text": [
            "W0617 13:33:48.364398 140108863686528 deprecation.py:323] From /usr/local/lib/python3.6/dist-packages/tensorflow/contrib/learn/python/learn/datasets/mnist.py:267: extract_labels (from tensorflow.contrib.learn.python.learn.datasets.mnist) is deprecated and will be removed in a future version.\n",
            "Instructions for updating:\n",
            "Please use tf.data to implement this functionality.\n",
            "W0617 13:33:48.409774 140108863686528 deprecation.py:323] From /usr/local/lib/python3.6/dist-packages/tensorflow/contrib/learn/python/learn/datasets/mnist.py:290: DataSet.__init__ (from tensorflow.contrib.learn.python.learn.datasets.mnist) is deprecated and will be removed in a future version.\n",
            "Instructions for updating:\n",
            "Please use alternatives such as official/mnist/dataset.py from tensorflow/models.\n"
          ],
          "name": "stderr"
        },
        {
          "output_type": "stream",
          "text": [
            "Extracting ./data/mnist/train-labels-idx1-ubyte.gz\n",
            "Extracting ./data/mnist/t10k-images-idx3-ubyte.gz\n",
            "Extracting ./data/mnist/t10k-labels-idx1-ubyte.gz\n"
          ],
          "name": "stdout"
        }
      ]
    },
    {
      "cell_type": "markdown",
      "metadata": {
        "id": "-kazsjSu9w5X",
        "colab_type": "text"
      },
      "source": [
        "    (1b) Set the first 55,000 samples in the training dataset as training data, the remaining 5,000 samples in the training dataset as validation data, and 10,000 samples in the test dataset as test data."
      ]
    },
    {
      "cell_type": "code",
      "metadata": {
        "id": "SvabCxXH9w5Y",
        "colab_type": "code",
        "colab": {
          "base_uri": "https://localhost:8080/",
          "height": 125
        },
        "outputId": "299d7094-0b4b-4eed-c54d-458c7c27dab1"
      },
      "source": [
        "## Set the first 55,000 samples in the training dataset as training data\n",
        "X_train = mnist_data.train.images\n",
        "y_train = mnist_data.train.labels\n",
        "print('training data\\n rows: %d, columns: %d' % (X_train.shape[0], X_train.shape[1]))\n",
        "\n",
        "# the remaining 5,000 samples in the training dataset as validation data\n",
        "X_valid = mnist_data.validation.images\n",
        "y_valid = mnist_data.validation.labels\n",
        "print('validation data\\n rows: %d, columns: %d' % (X_valid.shape[0], X_valid.shape[1]))\n",
        "\n",
        "# 10,000 samples in the test dataset as test data\n",
        "X_test = mnist_data.test.images\n",
        "y_test = mnist_data.test.labels\n",
        "print('test data\\n rows: %d, columns: %d' % (X_test.shape[0], X_test.shape[1]))"
      ],
      "execution_count": 4,
      "outputs": [
        {
          "output_type": "stream",
          "text": [
            "training data\n",
            " rows: 55000, columns: 784\n",
            "validation data\n",
            " rows: 5000, columns: 784\n",
            "test data\n",
            " rows: 10000, columns: 784\n"
          ],
          "name": "stdout"
        }
      ]
    },
    {
      "cell_type": "code",
      "metadata": {
        "id": "YPLyUWan9w5a",
        "colab_type": "code",
        "colab": {
          "base_uri": "https://localhost:8080/",
          "height": 226
        },
        "outputId": "816f14ca-c050-4ada-8541-0c0ad6eec0f9"
      },
      "source": [
        "# check\n",
        "fig, ax = plt.subplots(nrows=2, ncols=5, sharex=True, sharey=True,)\n",
        "ax = ax.flatten()\n",
        "for i in range(10):\n",
        "    img = X_train[y_train == i][0].reshape(28, 28)\n",
        "    ax[i].imshow(img, cmap='Greys')\n",
        "    \n",
        "ax[0].set_xticks([])\n",
        "ax[0].set_yticks([])\n",
        "plt.tight_layout()\n",
        "plt.show()"
      ],
      "execution_count": 5,
      "outputs": [
        {
          "output_type": "display_data",
          "data": {
            "image/png": "[encoded data removed]",
            "text/plain": [
              "<Figure size 432x288 with 10 Axes>"
            ]
          },
          "metadata": {
            "tags": []
          }
        }
      ]
    },
    {
      "cell_type": "code",
      "metadata": {
        "id": "yyI7sU2U9w5c",
        "colab_type": "code",
        "colab": {
          "base_uri": "https://localhost:8080/",
          "height": 71
        },
        "outputId": "2781adf4-0710-4f43-bef6-5bc482c68251"
      },
      "source": [
        "## mean centering and normalization:\n",
        "mean_vals = np.mean(X_train, axis=0)\n",
        "std_val = np.std(X_train)\n",
        "\n",
        "X_train_centered = (X_train - mean_vals)/std_val\n",
        "X_valid_centered = (X_valid - mean_vals)/std_val\n",
        "X_test_centered = (X_test - mean_vals)/std_val\n",
        "\n",
        "del X_train, X_test, X_valid\n",
        "\n",
        "print(X_train_centered.shape, y_train.shape)\n",
        "print(X_valid_centered.shape, y_valid.shape)\n",
        "print(X_test_centered.shape, y_test.shape)"
      ],
      "execution_count": 6,
      "outputs": [
        {
          "output_type": "stream",
          "text": [
            "(55000, 784) (55000,)\n",
            "(5000, 784) (5000,)\n",
            "(10000, 784) (10000,)\n"
          ],
          "name": "stdout"
        }
      ]
    },
    {
      "cell_type": "markdown",
      "metadata": {
        "id": "MQNen0Zo9w5e",
        "colab_type": "text"
      },
      "source": [
        "##### (2) Multilayer perceptron (MLP) using the low-level API of TF (e.g., p. 429)\n",
        "    (2a) Implement the multilayer perceptron (MLP) with two hidden layers for classification, and evaluate performance in the following scenarios"
      ]
    },
    {
      "cell_type": "markdown",
      "metadata": {
        "id": "LDZbBomL9w5f",
        "colab_type": "text"
      },
      "source": [
        "        (2a-1) for a few choices of hidden nodes per hidden layer"
      ]
    },
    {
      "cell_type": "code",
      "metadata": {
        "id": "OJHje54X9w5f",
        "colab_type": "code",
        "colab": {}
      },
      "source": [
        "def create_batch_generator(X, y, batch_size=1, shuffle=False):\n",
        "    X_copy = np.array(X)\n",
        "    y_copy = np.array(y)\n",
        "    \n",
        "    if shuffle:\n",
        "        data = np.column_stack((X_copy, y_copy))\n",
        "        np.random.shuffle(data)\n",
        "        X_copy = data[:, :-1]\n",
        "        y_copy = data[:, -1].astype(int)\n",
        "        \n",
        "    for i in range(0, X.shape[0], batch_size):\n",
        "        yield (X[i:i+batch_size, :], y[i:i+batch_size])"
      ],
      "execution_count": 0,
      "outputs": []
    },
    {
      "cell_type": "code",
      "metadata": {
        "id": "JYbKjhVg9w5h",
        "colab_type": "code",
        "colab": {}
      },
      "source": [
        "## 미리 코드상에는 2a), 2b) 2c) 구현 다 해놓은 후 각각을 값을 줘서 실행할 수 있는 코드로 설정\n",
        "class MLP(object):    \n",
        "    def __init__(self, n_features, epochs=10, learning_rate=0.001, l2= 0, n_hidden=32, batch_size=1, shuffle=False, random_seed=None, activation_fn='sigmoid'):\n",
        "        np.random.seed(random_seed)\n",
        "        self.epochs = epochs\n",
        "        self.learning_rate = learning_rate\n",
        "        self.shuffle = shuffle\n",
        "        self.n_hidden = n_hidden\n",
        "        self.n_features = n_features\n",
        "        self.valid_acc_ = 0.0\n",
        "        self.train_loss_ = 0.0\n",
        "        self.output_ = 0.0\n",
        "        self.l2 = l2\n",
        "        self.batch_size = batch_size\n",
        "        if activation_fn == 'sigmod':\n",
        "            self.activation = tf.nn.sigmoid\n",
        "        elif activation_fn == 'tanh':\n",
        "            self.activation = tf.nn.tanh\n",
        "        elif activation_fn == 'relu':\n",
        "            self.activation = tf.nn.relu\n",
        "        else: # default\n",
        "            self.activation = tf.nn.sigmoid\n",
        "            \n",
        "        self.test=0.\n",
        "                \n",
        "        g = tf.Graph()\n",
        "        with g.as_default():\n",
        "            ## set random-seed:\n",
        "            tf.set_random_seed(random_seed)\n",
        "            \n",
        "            ## build the network:\n",
        "            self.build()\n",
        "            \n",
        "            ## initializer\n",
        "            self.init_op = tf.global_variables_initializer()\n",
        "            \n",
        "        ## create a session\n",
        "        self.sess = tf.Session(graph=g)\n",
        "    \n",
        "    def build(self):\n",
        "        n_classes = 10\n",
        "        \n",
        "        ## Placeholders for X and y:\n",
        "        tf_x = tf.placeholder(dtype=tf.float32, shape=(None, n_features), name='tf_x')\n",
        "        tf_y = tf.placeholder(dtype=tf.int32, shape=None, name='tf_y')\n",
        "        \n",
        "        ## One-hot encoding:\n",
        "        y_onehot = tf.one_hot(indices=tf_y, depth=n_classes)\n",
        "        \n",
        "        ## Store layers weight & bias\n",
        "        weights = {\n",
        "        'h1': tf.Variable(tf.random_normal([self.n_features, self.n_hidden])),\n",
        "        'h2': tf.Variable(tf.random_normal([self.n_hidden, self.n_hidden])),\n",
        "        'out': tf.Variable(tf.random_normal([self.n_hidden, n_classes]))\n",
        "        }\n",
        "        biases = {\n",
        "            'b1': tf.Variable(tf.random_normal([self.n_hidden])),\n",
        "            'b2': tf.Variable(tf.random_normal([self.n_hidden])),\n",
        "            'out': tf.Variable(tf.random_normal([n_classes]))\n",
        "        }\n",
        "            \n",
        "        ## 1st layer(Hidden#1)\n",
        "        layer_1 = self.activation(tf.add(tf.matmul(tf_x, weights['h1']), biases['b1']))\n",
        "        \n",
        "        ## 2nd layer(Hidden#2)\n",
        "        layer_2 = self.activation(tf.add(tf.matmul(layer_1, weights['h2']), biases['b2']))\n",
        "        \n",
        "        ## output\n",
        "        logits = tf.matmul(layer_2, weights['out']) + biases['out']\n",
        "        self.output_ = logits\n",
        "        \n",
        "        ## Prediction\n",
        "        predictions = {\n",
        "            #'classes' : tf.argmax(logits, axis=1, name='predicted_classes'),\n",
        "            'probabilities' : tf.nn.softmax(logits, name='softmax_tensor'),\n",
        "            'labels' : tf.cast(tf.argmax(logits, axis=1), tf.int32, name='labels')\n",
        "        }\n",
        "        \n",
        "        ## Loss Function and Optimization\n",
        "        regularizer = (self.l2 / 2) * (tf.reduce_mean(tf.square(weights['h1'])) + tf.reduce_mean(tf.square(weights['h2'])))\n",
        "        cross_entropy_loss = tf.reduce_mean(tf.nn.softmax_cross_entropy_with_logits(logits=logits, labels=y_onehot),name='cross_entropy_loss')\n",
        "        cross_entropy_loss_l2 = tf.add(cross_entropy_loss, regularizer, name='cross_entropy_loss_l2')\n",
        "        \n",
        "        ## Optimizer:\n",
        "        optimizer = tf.train.GradientDescentOptimizer(learning_rate=self.learning_rate)\n",
        "        optimizer = optimizer.minimize(cross_entropy_loss_l2, name='train_op')\n",
        "        \n",
        "        ## Finding accuracy\n",
        "        correct_predictions = tf.equal(predictions['labels'], tf_y, name='correct_preds')\n",
        "        \n",
        "        accuracy = tf.reduce_mean(tf.cast(correct_predictions, tf.float32), name='accuracy')\n",
        "        \n",
        "    def train(self, training_set, validation_set=None, initialize=True):\n",
        "        ## initialize variables\n",
        "        if initialize:\n",
        "            self.sess.run(self.init_op)\n",
        "        \n",
        "        self.train_cost_ = []\n",
        "        X_data = np.array(training_set[0])\n",
        "        y_data = np.array(training_set[1])\n",
        "        \n",
        "        if self.batch_size > 1:\n",
        "            self.shuffle = True\n",
        "                \n",
        "        for epoch in range(1, self.epochs + 1):\n",
        "            batch_gen = create_batch_generator(X_train_centered, y_train, batch_size=self.batch_size, shuffle=self.shuffle)\n",
        "            \n",
        "            avg_loss = 0.0\n",
        "            for i, (batch_x,batch_y) in enumerate(batch_gen):\n",
        "                feed = {'tf_x:0': batch_x, 'tf_y:0': batch_y}\n",
        "                loss, _ = self.sess.run(['cross_entropy_loss_l2:0', 'train_op'], feed_dict=feed)\n",
        "                avg_loss += loss\n",
        "                \n",
        "            self.train_loss_ = avg_loss\n",
        "            print('Epoch %02d: Training Avg. Loss: ' '%7.3f' % (epoch, avg_loss), end=' ')\n",
        "            \n",
        "            if validation_set is not None:\n",
        "                feed = {'tf_x:0': validation_set[0], 'tf_y:0': validation_set[1]}\n",
        "                valid_acc = self.sess.run('accuracy:0', feed_dict=feed)\n",
        "                self.valid_acc_ = valid_acc\n",
        "                print('Validation Acc: %7.3f' % self.valid_acc_)\n",
        "            else:\n",
        "                self.valid_acc_ = 0.0\n",
        "                print()\n",
        "                \n",
        "    def predict(self, X_test, return_proba = False):\n",
        "        feed = {'tf_x:0': X_test}\n",
        "        if return_proba:\n",
        "            return self.sess.run('probabilities:0', feed_dict=feed)\n",
        "        else:\n",
        "            return self.sess.run('labels:0', feed_dict=feed)"
      ],
      "execution_count": 0,
      "outputs": []
    },
    {
      "cell_type": "code",
      "metadata": {
        "id": "7agvBcov9w5i",
        "colab_type": "code",
        "colab": {}
      },
      "source": [
        "## global varaibles : n_features\n",
        "n_features = X_train_centered.shape[1]\n",
        "n_epochs = 3"
      ],
      "execution_count": 0,
      "outputs": []
    },
    {
      "cell_type": "code",
      "metadata": {
        "id": "PgBtpOZC9w5k",
        "colab_type": "code",
        "colab": {
          "base_uri": "https://localhost:8080/",
          "height": 505
        },
        "outputId": "37594756-7cb1-4206-f798-a16ab3b4933e"
      },
      "source": [
        "## a few choices of hidden nodes per hidden layer\n",
        "hidden_nodes = [64, 256, 512, 1024]\n",
        "val_accs_0 = []\n",
        "cost_accs_0 = []\n",
        "pred_accs_0 = []\n",
        "for n_hidden in hidden_nodes:\n",
        "    mlp = MLP(n_hidden=n_hidden, n_features=n_features, random_seed=123, epochs=n_epochs)\n",
        "    \n",
        "    print('======== hidden size : %d ========' % n_hidden)\n",
        "    mlp.train(training_set=(X_train_centered, y_train), validation_set=(X_valid_centered, y_valid))\n",
        "    \n",
        "    val_accs_0.append(mlp.valid_acc_)\n",
        "    cost_accs_0.append(mlp.train_loss_)\n",
        "    pred_accs_0.append(mlp.predict(X_test_centered))\n",
        "    \n",
        "min_index = cost_accs_0.index(min(cost_accs_0))\n",
        "best_hidden = hidden_nodes[min_index]\n",
        "preds0 = pred_accs_0[min_index]\n",
        "print('\\n** best hidden node : %d' % best_hidden)"
      ],
      "execution_count": 10,
      "outputs": [
        {
          "output_type": "stream",
          "text": [
            "W0617 13:33:49.784905 140108863686528 deprecation.py:323] From <ipython-input-8-00666efd3b4a>:80: softmax_cross_entropy_with_logits (from tensorflow.python.ops.nn_ops) is deprecated and will be removed in a future version.\n",
            "Instructions for updating:\n",
            "\n",
            "Future major versions of TensorFlow will allow gradients to flow\n",
            "into the labels input on backprop by default.\n",
            "\n",
            "See `tf.nn.softmax_cross_entropy_with_logits_v2`.\n",
            "\n"
          ],
          "name": "stderr"
        },
        {
          "output_type": "stream",
          "text": [
            "======== hidden size : 64 ========\n",
            "Epoch 01: Training Avg. Loss: 93909.072 Validation Acc:   0.665\n",
            "Epoch 02: Training Avg. Loss: 48518.228 Validation Acc:   0.751\n",
            "Epoch 03: Training Avg. Loss: 39219.905 Validation Acc:   0.790\n",
            "======== hidden size : 256 ========\n",
            "Epoch 01: Training Avg. Loss: 137716.972 Validation Acc:   0.728\n",
            "Epoch 02: Training Avg. Loss: 53930.703 Validation Acc:   0.787\n",
            "Epoch 03: Training Avg. Loss: 39378.406 Validation Acc:   0.808\n",
            "======== hidden size : 512 ========\n",
            "Epoch 01: Training Avg. Loss: 162072.006 Validation Acc:   0.784\n",
            "Epoch 02: Training Avg. Loss: 60281.039 Validation Acc:   0.816\n",
            "Epoch 03: Training Avg. Loss: 38879.646 Validation Acc:   0.832\n",
            "======== hidden size : 1024 ========\n",
            "Epoch 01: Training Avg. Loss: 205268.560 Validation Acc:   0.808\n",
            "Epoch 02: Training Avg. Loss: 66040.946 Validation Acc:   0.830\n",
            "Epoch 03: Training Avg. Loss: 32322.837 Validation Acc:   0.836\n",
            "\n",
            "** best hidden node : 1024\n"
          ],
          "name": "stdout"
        }
      ]
    },
    {
      "cell_type": "markdown",
      "metadata": {
        "id": "HOydx6Az9w5m",
        "colab_type": "text"
      },
      "source": [
        "        (2a-2) for a few choices of activation functions (i.e., sigmoid, tanh, and ReLU)"
      ]
    },
    {
      "cell_type": "code",
      "metadata": {
        "id": "RO-BEyaF9w5m",
        "colab_type": "code",
        "colab": {
          "base_uri": "https://localhost:8080/",
          "height": 377
        },
        "outputId": "ca175b95-f723-4720-f5fe-9d53cd8f17ce"
      },
      "source": [
        "## a few choices of activation functions\n",
        "activations = ['sigmoid', 'tanh', 'relu']\n",
        "val_accs_1 = []\n",
        "cost_accs_1 = []\n",
        "pred_accs_1 = []\n",
        "for activation_fn in activations:\n",
        "    mlp_act = MLP(n_hidden=best_hidden, activation_fn=activation_fn, random_seed=123, epochs=5, n_features=n_features)\n",
        "    \n",
        "    print('======== activation function : %s ========' % activation_fn)\n",
        "    mlp_act.train(training_set=(X_train_centered, y_train), validation_set=(X_valid_centered, y_valid))\n",
        "    \n",
        "    val_accs_1.append(mlp_act.valid_acc_)\n",
        "    cost_accs_1.append(mlp_act.train_loss_)\n",
        "    pred_accs_1.append(mlp_act.predict(X_test_centered))\n",
        "    \n",
        "min_index = cost_accs_1.index(min(cost_accs_1))\n",
        "best_activation = activations[min_index]\n",
        "preds1 = pred_accs_1[min_index]\n",
        "print('\\n** best activation function : %s' % best_activation)"
      ],
      "execution_count": 13,
      "outputs": [
        {
          "output_type": "stream",
          "text": [
            "======== activation function : sigmoid ========\n",
            "Epoch 01: Training Avg. Loss: 205268.560 Validation Acc:   0.808\n",
            "Epoch 02: Training Avg. Loss: 66040.946 Validation Acc:   0.830\n",
            "Epoch 03: Training Avg. Loss: 32322.837 Validation Acc:   0.836\n",
            "Epoch 04: Training Avg. Loss: 17401.804 Validation Acc:   0.837\n",
            "Epoch 05: Training Avg. Loss: 9893.384 Validation Acc:   0.835\n",
            "======== activation function : tanh ========\n",
            "Epoch 01: Training Avg. Loss: 425954.625 Validation Acc:   0.835\n",
            "Epoch 02: Training Avg. Loss: 215761.171 Validation Acc:   0.855\n",
            "Epoch 03: Training Avg. Loss: 165238.476 Validation Acc:   0.869\n",
            "Epoch 04: Training Avg. Loss: 136068.944 Validation Acc:   0.880\n",
            "Epoch 05: Training Avg. Loss: 114085.353 Validation Acc:   0.892\n",
            "======== activation function : relu ========\n",
            "Epoch 01: Training Avg. Loss: 16243759.543 Validation Acc:   0.492\n",
            "Epoch 02: Training Avg. Loss: 130784.806 Validation Acc:   0.510\n",
            "Epoch 03: Training Avg. Loss: 89439.881 Validation Acc:   0.488\n",
            "Epoch 04: Training Avg. Loss: 81868.423 Validation Acc:   0.542\n",
            "Epoch 05: Training Avg. Loss: 87213.366 Validation Acc:   0.566\n",
            "\n",
            "** best activation function : sigmoid\n"
          ],
          "name": "stdout"
        }
      ]
    },
    {
      "cell_type": "markdown",
      "metadata": {
        "id": "BRR_b-uk9w5o",
        "colab_type": "text"
      },
      "source": [
        "      (2b) Add the L2-norm regularization of weights to (2a) and evalute performance for a few choices of L2-norm regularization parameters. For this, please pick the best-performing model from (2a)"
      ]
    },
    {
      "cell_type": "code",
      "metadata": {
        "id": "s2fSdZnZ9w5p",
        "colab_type": "code",
        "colab": {
          "base_uri": "https://localhost:8080/",
          "height": 269
        },
        "outputId": "8e32e286-a273-402c-bfba-4c4ba1c11eb2"
      },
      "source": [
        "## a few choices of L2-norm regularization parameters\n",
        "l2_weight_decays = [1e-4, 1e-2, 1e-1]\n",
        "val_accs_2 = []\n",
        "cost_accs_2 = []\n",
        "pred_accs_2 = []\n",
        "for l2_weight_decay in l2_weight_decays:\n",
        "    mlp_l2 = MLP(n_hidden=best_hidden, activation_fn=best_activation, l2=l2_weight_decay, epochs=n_epochs, n_features=n_features, random_seed=123)\n",
        "    \n",
        "    print('======== L2-norm regularization of weights : %f ========' % l2_weight_decay)\n",
        "    mlp_l2.train(training_set=(X_train_centered, y_train), validation_set=(X_valid_centered, y_valid))\n",
        "    \n",
        "    val_accs_2.append(mlp_l2.valid_acc_)\n",
        "    cost_accs_2.append(mlp_l2.train_loss_)\n",
        "    pred_accs_2.append(mlp_l2.predict(X_test_centered))\n",
        "    \n",
        "min_index = cost_accs_2.index(min(cost_accs_2))\n",
        "best_weight = l2_weight_decays[min_index]\n",
        "preds2 = pred_accs_2[min_index]\n",
        "print('\\n** best L2-norm regularization of weights: %f' % best_weight)"
      ],
      "execution_count": 18,
      "outputs": [
        {
          "output_type": "stream",
          "text": [
            "======== L2-norm regularization of weights : 0.000100 ========\n",
            "Epoch 01: Training Avg. Loss: 205274.064 Validation Acc:   0.808\n",
            "Epoch 02: Training Avg. Loss: 66046.425 Validation Acc:   0.830\n",
            "Epoch 03: Training Avg. Loss: 32328.279 Validation Acc:   0.836\n",
            "======== L2-norm regularization of weights : 0.010000 ========\n",
            "Epoch 01: Training Avg. Loss: 205817.268 Validation Acc:   0.808\n",
            "Epoch 02: Training Avg. Loss: 66589.683 Validation Acc:   0.830\n",
            "Epoch 03: Training Avg. Loss: 32871.547 Validation Acc:   0.836\n",
            "======== L2-norm regularization of weights : 0.100000 ========\n",
            "Epoch 01: Training Avg. Loss: 210755.711 Validation Acc:   0.808\n",
            "Epoch 02: Training Avg. Loss: 71528.443 Validation Acc:   0.830\n",
            "Epoch 03: Training Avg. Loss: 37810.491 Validation Acc:   0.836\n",
            "\n",
            "** best L2-norm regularization of weights: 0.000100\n"
          ],
          "name": "stdout"
        }
      ]
    },
    {
      "cell_type": "markdown",
      "metadata": {
        "id": "rIgzNLlQ9w5r",
        "colab_type": "text"
      },
      "source": [
        "    (2c) Evaluate the performance of (2b) for a few options of mini-batch sizes "
      ]
    },
    {
      "cell_type": "code",
      "metadata": {
        "id": "6plt0xhg9w5s",
        "colab_type": "code",
        "colab": {
          "base_uri": "https://localhost:8080/",
          "height": 269
        },
        "outputId": "6ac932a0-7b29-45e4-fe01-8094f2ce1a38"
      },
      "source": [
        "## a few options of mini-batch sizes\n",
        "batch_sizes = [128, 64, 16]\n",
        "val_accs_3 = []\n",
        "cost_accs_3 = []\n",
        "pred_accs_3 = []\n",
        "for n_batch_size in batch_sizes:\n",
        "    mlp_batch = MLP(n_hidden=best_hidden, activation_fn=best_activation, l2=best_weight, batch_size=n_batch_size, epochs=n_epochs, n_features=n_features, random_seed=123)\n",
        "    \n",
        "    print('======== mini-batch sizes : %d ========' % n_batch_size)\n",
        "    mlp_batch.train(training_set=(X_train_centered, y_train), validation_set=(X_valid_centered, y_valid))\n",
        "    \n",
        "    val_accs_3.append(mlp_batch.valid_acc_)\n",
        "    cost_accs_3.append(mlp_batch.train_loss_)\n",
        "    pred_accs_3.append(mlp_batch.predict(X_test_centered))\n",
        "    \n",
        "min_index = cost_accs_3.index(min(cost_accs_3))\n",
        "best_batch = batch_sizes[min_index]\n",
        "preds3 = pred_accs_3[min_index]\n",
        "print('\\n** best mini-batch sizes: %d' % best_batch)"
      ],
      "execution_count": 23,
      "outputs": [
        {
          "output_type": "stream",
          "text": [
            "======== mini-batch sizes : 128 ========\n",
            "Epoch 01: Training Avg. Loss: 8275.204 Validation Acc:   0.145\n",
            "Epoch 02: Training Avg. Loss: 6244.306 Validation Acc:   0.192\n",
            "Epoch 03: Training Avg. Loss: 5356.656 Validation Acc:   0.236\n",
            "======== mini-batch sizes : 64 ========\n",
            "Epoch 01: Training Avg. Loss: 14551.935 Validation Acc:   0.192\n",
            "Epoch 02: Training Avg. Loss: 10106.334 Validation Acc:   0.283\n",
            "Epoch 03: Training Avg. Loss: 8115.356 Validation Acc:   0.354\n",
            "======== mini-batch sizes : 16 ========\n",
            "Epoch 01: Training Avg. Loss: 40092.441 Validation Acc:   0.419\n",
            "Epoch 02: Training Avg. Loss: 20870.498 Validation Acc:   0.552\n",
            "Epoch 03: Training Avg. Loss: 15320.849 Validation Acc:   0.615\n",
            "\n",
            "** best mini-batch sizes: 128\n"
          ],
          "name": "stdout"
        }
      ]
    },
    {
      "cell_type": "markdown",
      "metadata": {
        "id": "_EcS2tJa9w5v",
        "colab_type": "text"
      },
      "source": [
        "    (2d) Commonly for the results for (2a) - (2c), discuss the results such as by presenting convergence curves of cost and/or accuracy and by exemplifying the misclassified digits"
      ]
    },
    {
      "cell_type": "code",
      "metadata": {
        "id": "BbbeA8Ig9w5v",
        "colab_type": "code",
        "colab": {}
      },
      "source": [
        "def plot_misclassified(X, y, misclassified, predicted):\n",
        "    fig = plt.figure('misclassified digits', figsize=(10, 10))    \n",
        "    for i in range(10):\n",
        "        subplot = fig.add_subplot(2, 5, i+1)            \n",
        "        subplot.set_xticks([])\n",
        "        subplot.set_yticks([])            \n",
        "        subplot.set_title('ground truth : %d\\npredicted : %d' % (y[misclassified[i]], predicted[misclassified[i]]))            \n",
        "        subplot.imshow(X[misclassified[i], :].reshape((28, 28)), cmap=plt.cm.gray_r)"
      ],
      "execution_count": 0,
      "outputs": []
    },
    {
      "cell_type": "code",
      "metadata": {
        "id": "WGcR8XO-9w5y",
        "colab_type": "code",
        "colab": {
          "base_uri": "https://localhost:8080/",
          "height": 743
        },
        "outputId": "b011af0c-0f76-4608-c74f-a4c52ed01231"
      },
      "source": [
        "## a few choices of hidden nodes per hidden layer\n",
        "plt.plot(hidden_nodes, val_accs_0, label='acc per hidden nodes')\n",
        "plt.xlabel('hidden_size')\n",
        "plt.ylabel('accuracy')\n",
        "plt.show()\n",
        "\n",
        "print('Test Accuracy(hidden nodes): %.2f%%' % (100*np.sum(y_test == preds0)/len(y_test)))\n",
        "\n",
        "misclassified = np.where(preds0 != y_test)[0]\n",
        "plot_misclassified(X_test_centered, y_test, misclassified, preds0)"
      ],
      "execution_count": 20,
      "outputs": [
        {
          "output_type": "display_data",
          "data": {
            "image/png": "[encoded data removed]",
            "text/plain": [
              "<Figure size 432x288 with 1 Axes>"
            ]
          },
          "metadata": {
            "tags": []
          }
        },
        {
          "output_type": "stream",
          "text": [
            "Test Accuracy(hidden nodes): 83.57%\n"
          ],
          "name": "stdout"
        },
        {
          "output_type": "display_data",
          "data": {
            "image/png": "[encoded data removed]",
            "text/plain": [
              "<Figure size 720x720 with 10 Axes>"
            ]
          },
          "metadata": {
            "tags": []
          }
        }
      ]
    },
    {
      "cell_type": "markdown",
      "metadata": {
        "id": "7Jz6ilfw4fKo",
        "colab_type": "text"
      },
      "source": [
        "* hidden layer에서 hidden node의 수를 증가시킬수록 accuracy가 올라감을 확인할 수 있었다."
      ]
    },
    {
      "cell_type": "code",
      "metadata": {
        "id": "jzewMlEP9w52",
        "colab_type": "code",
        "colab": {
          "base_uri": "https://localhost:8080/",
          "height": 742
        },
        "outputId": "97cddc0f-6b69-4f24-82ea-31741271a754"
      },
      "source": [
        "## a few choices of activation functions\n",
        "plt.plot([0, 1, 2], val_accs_1, label='acc per activation functions')\n",
        "plt.xlabel('activation functions (0:sigmoid, 1:tanh, 2:relu)')\n",
        "plt.ylabel('accuracy')\n",
        "plt.show()\n",
        "\n",
        "print('Test Accuracy(hidden nodes+activation): %.2f%%' % (100*np.sum(y_test == preds1)/len(y_test)))\n",
        "\n",
        "misclassified = np.where(preds1 != y_test)[0]\n",
        "plot_misclassified(X_test_centered, y_test, misclassified, preds1)"
      ],
      "execution_count": 21,
      "outputs": [
        {
          "output_type": "display_data",
          "data": {
            "image/png": "[encoded data removed]",
            "text/plain": [
              "<Figure size 432x288 with 1 Axes>"
            ]
          },
          "metadata": {
            "tags": []
          }
        },
        {
          "output_type": "stream",
          "text": [
            "Test Accuracy(hidden nodes+activation): 83.69%\n"
          ],
          "name": "stdout"
        },
        {
          "output_type": "display_data",
          "data": {
            "image/png": "[encoded data removed]",
            "text/plain": [
              "<Figure size 720x720 with 10 Axes>"
            ]
          },
          "metadata": {
            "tags": []
          }
        }
      ]
    },
    {
      "cell_type": "markdown",
      "metadata": {
        "id": "pDeiaK0s4mHA",
        "colab_type": "text"
      },
      "source": [
        "* validation accuracy는 tanh가 가장 좋은데 cost가 sigmoid가 tanh, relu보다 activation function으로 더 좋은 성능을 보임을 알 수 있었다."
      ]
    },
    {
      "cell_type": "code",
      "metadata": {
        "id": "8z6LkSo29w56",
        "colab_type": "code",
        "colab": {
          "base_uri": "https://localhost:8080/",
          "height": 742
        },
        "outputId": "da9549a3-2d34-4069-c18d-9ff47f145f3d"
      },
      "source": [
        "## a few choices of L2-norm regularization parameters\n",
        "plt.plot(l2_weight_decays, val_accs_2, label='acc per L2-norm regularization weight')\n",
        "plt.xlabel('L2-norm regularization weight')\n",
        "plt.ylabel('accuracy')\n",
        "plt.show()\n",
        "\n",
        "print('Test Accuracy(hidden nodes+activation+L2-norm): %.2f%%' % (100*np.sum(y_test == preds2)/len(y_test)))\n",
        "\n",
        "misclassified = np.where(preds2 != y_test)[0]\n",
        "plot_misclassified(X_test_centered, y_test, misclassified, preds2)"
      ],
      "execution_count": 22,
      "outputs": [
        {
          "output_type": "display_data",
          "data": {
            "image/png": "[encoded data removed]",
            "text/plain": [
              "<Figure size 432x288 with 1 Axes>"
            ]
          },
          "metadata": {
            "tags": []
          }
        },
        {
          "output_type": "stream",
          "text": [
            "Test Accuracy(hidden nodes+activation+L2-norm): 83.57%\n"
          ],
          "name": "stdout"
        },
        {
          "output_type": "display_data",
          "data": {
            "image/png": "[encoded data removed]",
            "text/plain": [
              "<Figure size 720x720 with 10 Axes>"
            ]
          },
          "metadata": {
            "tags": []
          }
        }
      ]
    },
    {
      "cell_type": "markdown",
      "metadata": {
        "id": "tnoW22dl4pMX",
        "colab_type": "text"
      },
      "source": [
        "* L2-Norm에서 weight decay에 따라 별 영향이 없을을 확인하였다."
      ]
    },
    {
      "cell_type": "code",
      "metadata": {
        "id": "gffWlRGf9w5-",
        "colab_type": "code",
        "colab": {
          "base_uri": "https://localhost:8080/",
          "height": 742
        },
        "outputId": "cdd435df-adc8-4236-e306-e8f138bd45db"
      },
      "source": [
        "## a few options of mini-batch sizes\n",
        "plt.plot(batch_sizes, val_accs_3, label='acc per mini-batch sizes')\n",
        "plt.xlabel('mini-batch sizes')\n",
        "plt.ylabel('accuracy')\n",
        "plt.show()\n",
        "\n",
        "print('Test Accuracy(hidden nodes+activation+L2-norm+mini-batch): %.2f%%' % (100*np.sum(y_test == preds3)/len(y_test)))\n",
        "\n",
        "misclassified = np.where(preds3 != y_test)[0]\n",
        "plot_misclassified(X_test_centered, y_test, misclassified, preds3)"
      ],
      "execution_count": 24,
      "outputs": [
        {
          "output_type": "display_data",
          "data": {
            "image/png": "[encoded data removed]",
            "text/plain": [
              "<Figure size 432x288 with 1 Axes>"
            ]
          },
          "metadata": {
            "tags": []
          }
        },
        {
          "output_type": "stream",
          "text": [
            "Test Accuracy(hidden nodes+activation+L2-norm+mini-batch): 24.27%\n"
          ],
          "name": "stdout"
        },
        {
          "output_type": "display_data",
          "data": {
            "image/png": "[encoded data removed]",
            "text/plain": [
              "<Figure size 720x720 with 10 Axes>"
            ]
          },
          "metadata": {
            "tags": []
          }
        }
      ]
    },
    {
      "cell_type": "markdown",
      "metadata": {
        "id": "SJHJwdmx4tNc",
        "colab_type": "text"
      },
      "source": [
        "* mini-batch는 더 작은 사이즈로 갈수록 좋은 성능을 보임을 확인할 수 있었다.(하지만 시간은 역으로 많이 걸려서 힘들었다.)"
      ]
    },
    {
      "cell_type": "markdown",
      "metadata": {
        "id": "rmbmmMPf4uwN",
        "colab_type": "text"
      },
      "source": [
        "* 전반적으로 hidden layer의 node수를 증가 시키고mini-batch를 줄인 상태에서 sigmoid를 activation으로 설정하는게 가장 좋은 성능을 내는 것을 확인할 수 있었다."
      ]
    },
    {
      "cell_type": "code",
      "metadata": {
        "id": "SczxLqFQ9w6D",
        "colab_type": "code",
        "colab": {}
      },
      "source": [
        ""
      ],
      "execution_count": 0,
      "outputs": []
    }
  ]
}