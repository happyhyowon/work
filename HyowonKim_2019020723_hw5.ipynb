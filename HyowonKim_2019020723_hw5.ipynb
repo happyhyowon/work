{
 "cells": [
  {
   "cell_type": "markdown",
   "metadata": {},
   "source": [
    "<div style=\"text-align: right\"> __ Provided on May 27 and due on June 17__ [BRI516, Spring/2019] </div>"
   ]
  },
  {
   "cell_type": "markdown",
   "metadata": {},
   "source": [
    "For homework in general:\n",
    "* Install `Anaconda` and create an environment with `NumPy`, `Pandas`, `Matplotlib`, `scikit-learn` in Python 3.5 \n",
    "* Please upload your jupyter-notebook file for homework to `Blackboard`\n",
    "* Please visualize the results as much as possible and discuss your results at least one line of text"
   ]
  },
  {
   "cell_type": "code",
   "execution_count": 1,
   "metadata": {},
   "outputs": [],
   "source": [
    "## Disable warning message\n",
    "import os\n",
    "\n",
    "os.environ['TF_CPP_MIN_LOG_LEVEL'] = '2'"
   ]
  },
  {
   "cell_type": "code",
   "execution_count": 2,
   "metadata": {},
   "outputs": [],
   "source": [
    "## import library & module\n",
    "import matplotlib.pyplot as plt\n",
    "%matplotlib inline\n",
    "\n",
    "import tensorflow as tf\n",
    "\n",
    "import os\n",
    "import sys\n",
    "import struct\n",
    "import numpy as np"
   ]
  },
  {
   "cell_type": "markdown",
   "metadata": {},
   "source": [
    "#### [Hw05] Implementing a Multilayer Neural Networks using TensorFlow (TF) 1.x (Ch. 13)\n",
    "\n",
    "\n",
    "##### (1) Data preparation\n",
    "    (1a) Load the train dataset and test dataset of the MNIST \n",
    "    \n",
    "\n",
    "  "
   ]
  },
  {
   "cell_type": "code",
   "execution_count": 3,
   "metadata": {},
   "outputs": [
    {
     "name": "stdout",
     "output_type": "stream",
     "text": [
      "WARNING:tensorflow:From <ipython-input-3-f427242af978>:3: read_data_sets (from tensorflow.contrib.learn.python.learn.datasets.mnist) is deprecated and will be removed in a future version.\n",
      "Instructions for updating:\n",
      "Please use alternatives such as official/mnist/dataset.py from tensorflow/models.\n",
      "WARNING:tensorflow:From /home/hyo1kim/.conda/envs/tensorflow/lib/python3.5/site-packages/tensorflow/contrib/learn/python/learn/datasets/mnist.py:260: maybe_download (from tensorflow.contrib.learn.python.learn.datasets.base) is deprecated and will be removed in a future version.\n",
      "Instructions for updating:\n",
      "Please write your own downloading logic.\n",
      "WARNING:tensorflow:From /home/hyo1kim/.conda/envs/tensorflow/lib/python3.5/site-packages/tensorflow/contrib/learn/python/learn/datasets/mnist.py:262: extract_images (from tensorflow.contrib.learn.python.learn.datasets.mnist) is deprecated and will be removed in a future version.\n",
      "Instructions for updating:\n",
      "Please use tf.data to implement this functionality.\n",
      "Extracting ./data/mnist/train-images-idx3-ubyte.gz\n",
      "WARNING:tensorflow:From /home/hyo1kim/.conda/envs/tensorflow/lib/python3.5/site-packages/tensorflow/contrib/learn/python/learn/datasets/mnist.py:267: extract_labels (from tensorflow.contrib.learn.python.learn.datasets.mnist) is deprecated and will be removed in a future version.\n",
      "Instructions for updating:\n",
      "Please use tf.data to implement this functionality.\n",
      "Extracting ./data/mnist/train-labels-idx1-ubyte.gz\n",
      "Extracting ./data/mnist/t10k-images-idx3-ubyte.gz\n",
      "Extracting ./data/mnist/t10k-labels-idx1-ubyte.gz\n",
      "WARNING:tensorflow:From /home/hyo1kim/.conda/envs/tensorflow/lib/python3.5/site-packages/tensorflow/contrib/learn/python/learn/datasets/mnist.py:290: DataSet.__init__ (from tensorflow.contrib.learn.python.learn.datasets.mnist) is deprecated and will be removed in a future version.\n",
      "Instructions for updating:\n",
      "Please use alternatives such as official/mnist/dataset.py from tensorflow/models.\n"
     ]
    }
   ],
   "source": [
    "## import MNIST data\n",
    "from tensorflow.examples.tutorials.mnist import input_data\n",
    "mnist_data = input_data.read_data_sets(\"./data/mnist/\", validation_size=5000)"
   ]
  },
  {
   "cell_type": "markdown",
   "metadata": {},
   "source": [
    "    (1b) Set the first 55,000 samples in the training dataset as training data, the remaining 5,000 samples in the training dataset as validation data, and 10,000 samples in the test dataset as test data."
   ]
  },
  {
   "cell_type": "code",
   "execution_count": 4,
   "metadata": {},
   "outputs": [
    {
     "name": "stdout",
     "output_type": "stream",
     "text": [
      "training data\n",
      " rows: 55000, columns: 784\n",
      "validation data\n",
      " rows: 5000, columns: 784\n",
      "test data\n",
      " rows: 10000, columns: 784\n"
     ]
    }
   ],
   "source": [
    "## Set the first 55,000 samples in the training dataset as training data\n",
    "X_train = mnist_data.train.images\n",
    "y_train = mnist_data.train.labels\n",
    "print('training data\\n rows: %d, columns: %d' % (X_train.shape[0], X_train.shape[1]))\n",
    "\n",
    "# the remaining 5,000 samples in the training dataset as validation data\n",
    "X_valid = mnist_data.validation.images\n",
    "y_valid = mnist_data.validation.labels\n",
    "print('validation data\\n rows: %d, columns: %d' % (X_valid.shape[0], X_valid.shape[1]))\n",
    "\n",
    "# 10,000 samples in the test dataset as test data\n",
    "X_test = mnist_data.test.images\n",
    "y_test = mnist_data.test.labels\n",
    "print('test data\\n rows: %d, columns: %d' % (X_test.shape[0], X_test.shape[1]))"
   ]
  },
  {
   "cell_type": "code",
   "execution_count": 5,
   "metadata": {},
   "outputs": [
    {
     "data": {
      "image/png": "[encoded data removed]",
      "text/plain": [
       "<Figure size 432x288 with 10 Axes>"
      ]
     },
     "metadata": {},
     "output_type": "display_data"
    }
   ],
   "source": [
    "# check\n",
    "fig, ax = plt.subplots(nrows=2, ncols=5, sharex=True, sharey=True,)\n",
    "ax = ax.flatten()\n",
    "for i in range(10):\n",
    "    img = X_train[y_train == i][0].reshape(28, 28)\n",
    "    ax[i].imshow(img, cmap='Greys')\n",
    "    \n",
    "ax[0].set_xticks([])\n",
    "ax[0].set_yticks([])\n",
    "plt.tight_layout()\n",
    "plt.show()"
   ]
  },
  {
   "cell_type": "code",
   "execution_count": 6,
   "metadata": {},
   "outputs": [
    {
     "name": "stdout",
     "output_type": "stream",
     "text": [
      "(55000, 784) (55000,)\n",
      "(5000, 784) (5000,)\n",
      "(10000, 784) (10000,)\n"
     ]
    }
   ],
   "source": [
    "## mean centering and normalization:\n",
    "mean_vals = np.mean(X_train, axis=0)\n",
    "std_val = np.std(X_train)\n",
    "\n",
    "X_train_centered = (X_train - mean_vals)/std_val\n",
    "X_valid_centered = (X_valid - mean_vals)/std_val\n",
    "X_test_centered = (X_test - mean_vals)/std_val\n",
    "\n",
    "del X_train, X_test, X_valid\n",
    "\n",
    "print(X_train_centered.shape, y_train.shape)\n",
    "print(X_valid_centered.shape, y_valid.shape)\n",
    "print(X_test_centered.shape, y_test.shape)"
   ]
  },
  {
   "cell_type": "markdown",
   "metadata": {},
   "source": [
    "##### (2) Multilayer perceptron (MLP) using the low-level API of TF (e.g., p. 429)\n",
    "    (2a) Implement the multilayer perceptron (MLP) with two hidden layers for classification, and evaluate performance in the following scenarios"
   ]
  },
  {
   "cell_type": "markdown",
   "metadata": {},
   "source": [
    "        (2a-1) for a few choices of hidden nodes per hidden layer"
   ]
  },
  {
   "cell_type": "code",
   "execution_count": 7,
   "metadata": {},
   "outputs": [],
   "source": [
    "def create_batch_generator(X, y, batch_size=1, shuffle=False):\n",
    "    X_copy = np.array(X)\n",
    "    y_copy = np.array(y)\n",
    "    \n",
    "    if shuffle:\n",
    "        data = np.column_stack((X_copy, y_copy))\n",
    "        np.random.shuffle(data)\n",
    "        X_copy = data[:, :-1]\n",
    "        y_copy = data[:, -1].astype(int)\n",
    "        \n",
    "    for i in range(0, X.shape[0], batch_size):\n",
    "        yield (X[i:i+batch_size, :], y[i:i+batch_size])"
   ]
  },
  {
   "cell_type": "code",
   "execution_count": 8,
   "metadata": {},
   "outputs": [],
   "source": [
    "## 미리 코드상에는 2a), 2b) 2c) 구현 다 해놓은 후 각각을 값을 줘서 실행할 수 있는 코드로 설정\n",
    "class MLP(object):    \n",
    "    def __init__(self, n_features, epochs=10, learning_rate=0.001, l2= 0, n_hidden=32, batch_size=1, shuffle=False, random_seed=None, activation_fn='sigmoid'):\n",
    "        np.random.seed(random_seed)\n",
    "        self.epochs = epochs\n",
    "        self.learning_rate = learning_rate\n",
    "        self.shuffle = shuffle\n",
    "        self.n_hidden = n_hidden\n",
    "        self.n_features = n_features\n",
    "        self.valid_acc_ = 0.0\n",
    "        self.train_loss_ = 0.0\n",
    "        self.output_ = 0.0\n",
    "        self.l2 = l2\n",
    "        self.batch_size = batch_size\n",
    "        if activation_fn == 'sigmod':\n",
    "            self.activation = tf.nn.sigmoid\n",
    "        elif activation_fn == 'tanh':\n",
    "            self.activation = tf.nn.tanh\n",
    "        elif activation_fn == 'relu':\n",
    "            self.activation = tf.nn.relu\n",
    "        else: # default\n",
    "            self.activation = tf.nn.sigmoid\n",
    "            \n",
    "        self.test=0.\n",
    "                \n",
    "        g = tf.Graph()\n",
    "        with g.as_default():\n",
    "            ## set random-seed:\n",
    "            tf.set_random_seed(random_seed)\n",
    "            \n",
    "            ## build the network:\n",
    "            self.build()\n",
    "            \n",
    "            ## initializer\n",
    "            self.init_op = tf.global_variables_initializer()\n",
    "            \n",
    "        ## create a session\n",
    "        self.sess = tf.Session(graph=g)\n",
    "    \n",
    "    def build(self):\n",
    "        n_classes = 10\n",
    "        \n",
    "        ## Placeholders for X and y:\n",
    "        tf_x = tf.placeholder(dtype=tf.float32, shape=(None, n_features), name='tf_x')\n",
    "        tf_y = tf.placeholder(dtype=tf.int32, shape=None, name='tf_y')\n",
    "        \n",
    "        ## One-hot encoding:\n",
    "        y_onehot = tf.one_hot(indices=tf_y, depth=n_classes)\n",
    "        \n",
    "        ## Store layers weight & bias\n",
    "        weights = {\n",
    "        'h1': tf.Variable(tf.random_normal([self.n_features, self.n_hidden])),\n",
    "        'h2': tf.Variable(tf.random_normal([self.n_hidden, self.n_hidden])),\n",
    "        'out': tf.Variable(tf.random_normal([self.n_hidden, n_classes]))\n",
    "        }\n",
    "        biases = {\n",
    "            'b1': tf.Variable(tf.random_normal([self.n_hidden])),\n",
    "            'b2': tf.Variable(tf.random_normal([self.n_hidden])),\n",
    "            'out': tf.Variable(tf.random_normal([n_classes]))\n",
    "        }\n",
    "            \n",
    "        ## 1st layer(Hidden#1)\n",
    "        layer_1 = self.activation(tf.add(tf.matmul(tf_x, weights['h1']), biases['b1']))\n",
    "        \n",
    "        ## 2nd layer(Hidden#2)\n",
    "        layer_2 = self.activation(tf.add(tf.matmul(layer_1, weights['h2']), biases['b2']))\n",
    "        \n",
    "        ## output\n",
    "        logits = tf.matmul(layer_2, weights['out']) + biases['out']\n",
    "        self.output_ = logits\n",
    "        \n",
    "        ## Prediction\n",
    "        predictions = {\n",
    "            #'classes' : tf.argmax(logits, axis=1, name='predicted_classes'),\n",
    "            'probabilities' : tf.nn.softmax(logits, name='softmax_tensor'),\n",
    "            'labels' : tf.cast(tf.argmax(logits, axis=1), tf.int32, name='labels')\n",
    "        }\n",
    "        \n",
    "        ## Loss Function and Optimization\n",
    "        regularizer = (self.l2 / 2) * (tf.reduce_mean(tf.square(weights['h1'])) + tf.reduce_mean(tf.square(weights['h2'])))\n",
    "        cross_entropy_loss = tf.reduce_mean(tf.nn.softmax_cross_entropy_with_logits(logits=logits, labels=y_onehot),name='cross_entropy_loss')\n",
    "        cross_entropy_loss_l2 = tf.add(cross_entropy_loss, regularizer, name='cross_entropy_loss_l2')\n",
    "        \n",
    "        ## Optimizer:\n",
    "        optimizer = tf.train.GradientDescentOptimizer(learning_rate=self.learning_rate)\n",
    "        optimizer = optimizer.minimize(cross_entropy_loss_l2, name='train_op')\n",
    "        \n",
    "        ## Finding accuracy\n",
    "        correct_predictions = tf.equal(predictions['labels'], tf_y, name='correct_preds')\n",
    "        \n",
    "        accuracy = tf.reduce_mean(tf.cast(correct_predictions, tf.float32), name='accuracy')\n",
    "        \n",
    "    def train(self, training_set, validation_set=None, initialize=True):\n",
    "        ## initialize variables\n",
    "        if initialize:\n",
    "            self.sess.run(self.init_op)\n",
    "        \n",
    "        self.train_cost_ = []\n",
    "        X_data = np.array(training_set[0])\n",
    "        y_data = np.array(training_set[1])\n",
    "        \n",
    "        if self.batch_size > 1:\n",
    "            self.shuffle = True\n",
    "                \n",
    "        for epoch in range(1, self.epochs + 1):\n",
    "            batch_gen = create_batch_generator(X_train_centered, y_train, batch_size=self.batch_size, shuffle=self.shuffle)\n",
    "            \n",
    "            avg_loss = 0.0\n",
    "            for i, (batch_x,batch_y) in enumerate(batch_gen):\n",
    "                feed = {'tf_x:0': batch_x, 'tf_y:0': batch_y}\n",
    "                loss, _ = self.sess.run(['cross_entropy_loss:0', 'train_op'], feed_dict=feed)\n",
    "                avg_loss += loss\n",
    "                \n",
    "            self.train_loss_ = avg_loss\n",
    "            print('Epoch %02d: Training Avg. Loss: ' '%7.3f' % (epoch, avg_loss), end=' ')\n",
    "            \n",
    "            if validation_set is not None:\n",
    "                feed = {'tf_x:0': validation_set[0], 'tf_y:0': validation_set[1]}\n",
    "                valid_acc = self.sess.run('accuracy:0', feed_dict=feed)\n",
    "                self.valid_acc_ = valid_acc\n",
    "                print('Validation Acc: %7.3f' % self.valid_acc_)\n",
    "            else:\n",
    "                self.valid_acc_ = 0.0\n",
    "                print()\n",
    "                \n",
    "        def predict(self, X_test, return_proba = False):\n",
    "            feed = {'tf_x:0': X_test}\n",
    "            if return_proba:\n",
    "                return self.sess.run('probabilities:0', feed_dict=feed)\n",
    "            else:\n",
    "                return self.sess.run('labels:0', feed_dict=feed)"
   ]
  },
  {
   "cell_type": "code",
   "execution_count": 9,
   "metadata": {},
   "outputs": [],
   "source": [
    "## global varaibles : n_features\n",
    "n_features = X_train_centered.shape[1]\n",
    "n_epochs = 1"
   ]
  },
  {
   "cell_type": "code",
   "execution_count": 10,
   "metadata": {},
   "outputs": [
    {
     "name": "stdout",
     "output_type": "stream",
     "text": [
      "WARNING:tensorflow:From <ipython-input-8-df1ca6f9607a>:81: softmax_cross_entropy_with_logits (from tensorflow.python.ops.nn_ops) is deprecated and will be removed in a future version.\n",
      "Instructions for updating:\n",
      "\n",
      "Future major versions of TensorFlow will allow gradients to flow\n",
      "into the labels input on backprop by default.\n",
      "\n",
      "See @{tf.nn.softmax_cross_entropy_with_logits_v2}.\n",
      "\n",
      "======== hidden size : 32 ========\n",
      "Epoch 01: Training Avg. Loss: 101016.524 Validation Acc:   0.571\n",
      "======== hidden size : 64 ========\n",
      "Epoch 01: Training Avg. Loss: 93909.073 Validation Acc:   0.665\n",
      "======== hidden size : 128 ========\n",
      "Epoch 01: Training Avg. Loss: 117630.346 Validation Acc:   0.707\n",
      "======== hidden size : 256 ========\n",
      "Epoch 01: Training Avg. Loss: 137716.969 Validation Acc:   0.728\n",
      "======== hidden size : 512 ========\n",
      "Epoch 01: Training Avg. Loss: 162072.002 Validation Acc:   0.784\n",
      "======== hidden size : 1024 ========\n",
      "Epoch 01: Training Avg. Loss: 205268.536 Validation Acc:   0.808\n",
      "\n",
      "** best hidden node : 1024\n"
     ]
    },
    {
     "data": {
      "image/png": "[encoded data removed]",
      "text/plain": [
       "<Figure size 432x288 with 1 Axes>"
      ]
     },
     "metadata": {
      "needs_background": "light"
     },
     "output_type": "display_data"
    }
   ],
   "source": [
    "## a few choices of hidden nodes per hidden layer\n",
    "hidden_nodes = [32, 64, 128, 256, 512, 1024]\n",
    "val_accs_0 = []\n",
    "for n_hidden in hidden_nodes:\n",
    "    mlp = MLP(n_hidden=n_hidden, n_features=n_features, random_seed=123, epochs=n_epochs)\n",
    "    \n",
    "    print('======== hidden size : %d ========' % n_hidden)\n",
    "    mlp.train(training_set=(X_train_centered, y_train), validation_set=(X_valid_centered, y_valid))\n",
    "    \n",
    "    val_accs_0.append(mlp.valid_acc_)\n",
    "    \n",
    "max_index = val_accs_0.index(max(val_accs_0))\n",
    "best_hidden = hidden_nodes[max_index]\n",
    "print('\\n** best hidden node : %d' % best_hidden)"
   ]
  },
  {
   "cell_type": "markdown",
   "metadata": {},
   "source": [
    "        (2a-2) for a few choices of activation functions (i.e., sigmoid, tanh, and ReLU)"
   ]
  },
  {
   "cell_type": "code",
   "execution_count": null,
   "metadata": {},
   "outputs": [
    {
     "name": "stdout",
     "output_type": "stream",
     "text": [
      "======== activation function : sigmoid ========\n",
      "Epoch 01: Training Avg. Loss: 205268.536 Validation Acc:   0.808\n",
      "======== activation function : tanh ========\n",
      "Epoch 01: Training Avg. Loss: 427974.795 Validation Acc:   0.832\n",
      "======== activation function : relu ========\n"
     ]
    }
   ],
   "source": [
    "## a few choices of activation functions\n",
    "activations = ['sigmoid', 'tanh', 'relu']\n",
    "val_accs_1 = []\n",
    "for activation_fn in activations:\n",
    "    mlp_act = MLP(n_hidden=best_hidden, activation_fn=activation_fn, random_seed=123, epochs=n_epochs, n_features=n_features)\n",
    "    \n",
    "    print('======== activation function : %s ========' % activation_fn)\n",
    "    mlp_act.train(training_set=(X_train_centered, y_train), validation_set=(X_valid_centered, y_valid))\n",
    "    \n",
    "    val_accs_1.append(mlp_act.valid_acc_)\n",
    "    \n",
    "max_index = val_accs_1.index(max(val_accs_1))\n",
    "best_activation = activations[max_index]\n",
    "print('\\n** best activation function : %s' % best_activation)"
   ]
  },
  {
   "cell_type": "markdown",
   "metadata": {},
   "source": [
    "      (2b) Add the L2-norm regularization of weights to (2a) and evalute performance for a few choices of L2-norm regularization parameters. For this, please pick the best-performing model from (2a)"
   ]
  },
  {
   "cell_type": "code",
   "execution_count": null,
   "metadata": {},
   "outputs": [],
   "source": [
    "## a few choices of L2-norm regularization parameters\n",
    "l2_weight_decays = [1e-6, 1e-5, 1e-4, 1e-3, 1e-2, 1e-1]\n",
    "val_accs_2 = []\n",
    "for l2_weight_decay in l2_weight_decays:\n",
    "    mlp_l2 = MLP(n_hidden=best_hidden, activation_fn=best_activation, l2=l2_weight_decay, epochs=n_epochs, n_features=n_features, random_seed=123)\n",
    "    \n",
    "    print('======== L2-norm regularization of weights : %f ========' % l2_weight_decay)\n",
    "    mlp_l2.train(training_set=(X_train_centered, y_train), validation_set=(X_valid_centered, y_valid))\n",
    "    \n",
    "    val_accs_2.append(mlp_l2.valid_acc_)\n",
    "    \n",
    "max_index = val_accs_2.index(max(val_accs_2))\n",
    "best_weight = l2_weight_decays[max_index]\n",
    "print('\\n** best L2-norm regularization of weights: %f' % best_weight)"
   ]
  },
  {
   "cell_type": "markdown",
   "metadata": {},
   "source": [
    "    (2c) Evaluate the performance of (2b) for a few options of mini-batch sizes "
   ]
  },
  {
   "cell_type": "code",
   "execution_count": null,
   "metadata": {},
   "outputs": [],
   "source": [
    "## a few options of mini-batch sizes\n",
    "batch_sizes = [4, 8, 16, 32, 64, 128]\n",
    "val_accs_3 = []\n",
    "for n_batch_size in batch_sizes:\n",
    "    mlp_batch = MLP(n_hidden=best_hidden, activation_fn=best_activation, l2=l2_weight_decay, batch_size=n_batch_size, epochs=n_epochs, n_features=n_features, random_seed=123)\n",
    "    \n",
    "    print('======== mini-batch sizes : %d ========' % n_batch_size)\n",
    "    mlp_batch.train(training_set=(X_train_centered, y_train), validation_set=(X_valid_centered, y_valid))\n",
    "    \n",
    "    val_accs_3.append(mlp_batch.valid_acc_)\n",
    "    \n",
    "max_index = val_accs_3.index(max(val_accs_3))\n",
    "best_batch = batch_sizes[max_index]\n",
    "print('\\n** best mini-batch sizes: %d' % best_batch)"
   ]
  },
  {
   "cell_type": "markdown",
   "metadata": {},
   "source": [
    "    (2d) Commonly for the results for (2a) - (2c), discuss the results such as by presenting convergence curves of cost and/or accuracy and by exemplifying the misclassified digits"
   ]
  },
  {
   "cell_type": "code",
   "execution_count": null,
   "metadata": {},
   "outputs": [],
   "source": [
    "def plot_misclassified(X, y, misclassified, predicted):\n",
    "    fig = plt.figure('misclassified digits', figsize=(10, 10))    \n",
    "    for i in range(10):\n",
    "        subplot = fig.add_subplot(2, 5, i+1)            \n",
    "        subplot.set_xticks([])\n",
    "        subplot.set_yticks([])            \n",
    "        subplot.set_title('ground truth : %d\\npredicted : %d' % (y[misclassified[i]], predicted[misclassified[i]]))            \n",
    "        subplot.imshow(X[misclassified[i], :].reshape((28, 28)), cmap=plt.cm.gray_r)"
   ]
  },
  {
   "cell_type": "code",
   "execution_count": null,
   "metadata": {},
   "outputs": [],
   "source": [
    "## a few choices of hidden nodes per hidden layer\n",
    "plt.plot(hidden_nodes, val_accs_0, label='acc per hidden nodes')\n",
    "plt.xlabel('hidden_size')\n",
    "plt.ylabel('accuracy')\n",
    "plt.show()\n",
    "\n",
    "preds0 = mlp.predict(X_test_centered)\n",
    "print('Test Accuracy(hidden nodes): %.2f%%' % (100*np.sum(y_test == preds0)/len(y_test)))\n",
    "\n",
    "misclassified = np.where(preds0 != y_test)[0]\n",
    "plot_misclassified(X_test_centered, y_test, misclassified, predicted)"
   ]
  },
  {
   "cell_type": "code",
   "execution_count": null,
   "metadata": {},
   "outputs": [],
   "source": [
    "## a few choices of activation functions\n",
    "plt.plot([0, 1, 2], val_accs_1, label='acc per activation functions')\n",
    "plt.xlabel('activation functions (0:sigmoid, 1:tanh, 2:relu)')\n",
    "plt.ylabel('accuracy')\n",
    "plt.show()\n",
    "\n",
    "preds1 = mlp_act.predict(X_test_centered)\n",
    "print('Test Accuracy(hidden nodes+activation): %.2f%%' % (100*np.sum(y_test == preds1)/len(y_test)))"
   ]
  },
  {
   "cell_type": "code",
   "execution_count": null,
   "metadata": {},
   "outputs": [],
   "source": [
    "## a few choices of L2-norm regularization parameters\n",
    "plt.plot(l2_weight_decays, val_accs_2, label='acc per L2-norm regularization weight')\n",
    "plt.xlabel('L2-norm regularization weight')\n",
    "plt.ylabel('accuracy')\n",
    "plt.show()\n",
    "\n",
    "preds2 = mlp_l2.predict(X_test_centered)\n",
    "print('Test Accuracy(hidden nodes+activation+L2-norm): %.2f%%' % (100*np.sum(y_test == preds2)/len(y_test)))"
   ]
  },
  {
   "cell_type": "code",
   "execution_count": null,
   "metadata": {},
   "outputs": [],
   "source": [
    "## a few options of mini-batch sizes\n",
    "plt.plot(batch_sizes, val_accs_3, label='acc per mini-batch sizes')\n",
    "plt.xlabel('mini-batch sizes')\n",
    "plt.ylabel('accuracy')\n",
    "plt.show()\n",
    "\n",
    "preds3 = mlp_batch.predict(X_test_centered)\n",
    "print('Test Accuracy(hidden nodes+activation+L2-norm+mini-batch): %.2f%%' % (100*np.sum(y_test == preds3)/len(y_test)))"
   ]
  }
 ],
 "metadata": {
  "kernelspec": {
   "display_name": "Python [conda env:tensorflow]",
   "language": "python",
   "name": "conda-env-tensorflow-py"
  },
  "language_info": {
   "codemirror_mode": {
    "name": "ipython",
    "version": 3
   },
   "file_extension": ".py",
   "mimetype": "text/x-python",
   "name": "python",
   "nbconvert_exporter": "python",
   "pygments_lexer": "ipython3",
   "version": "3.5.6"
  }
 },
 "nbformat": 4,
 "nbformat_minor": 2
}
